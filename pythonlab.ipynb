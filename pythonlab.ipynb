{
 "cells": [
  {
   "cell_type": "code",
   "execution_count": 1,
   "metadata": {},
   "outputs": [
    {
     "name": "stdout",
     "output_type": "stream",
     "text": [
      "The roots of the quadratic equations are (-3+0j) and (-2+0j)\n"
     ]
    }
   ],
   "source": [
    "#Quadratic Equations \n",
    "import cmath\n",
    "a = int(input(\"Enter first number :\"))\n",
    "b = int(input(\"Enter second number :\"))\n",
    "c = int(input(\"Enter third number :\"))\n",
    "d = (b**2)-(4*a*c)\n",
    "sol1 = (-b-cmath.sqrt(d))/(2*a)\n",
    "sol2 = (-b+cmath.sqrt(d))/(2*a)\n",
    "print(\"The roots of the quadratic equations are {} and {}\".format(sol1,sol2))"
   ]
  },
  {
   "cell_type": "code",
   "execution_count": 15,
   "metadata": {},
   "outputs": [
    {
     "name": "stdout",
     "output_type": "stream",
     "text": [
      "The HCF of x and y are =  5\n",
      "The LCM of x and y are =  30.0\n"
     ]
    }
   ],
   "source": [
    "#LCM and HCF of two numbers\n",
    "x = int(input(\"Enter first number :\"))\n",
    "y = int(input(\"Enter second number :\"))\n",
    "def hcf(x,y):\n",
    "     if x>y :\n",
    "          smaller = y\n",
    "     else:\n",
    "         smaller = x\n",
    "     for i in range(1,smaller+1):\n",
    "         if x%i == 0 and y%i ==0 :\n",
    "            HCF = i\n",
    "     return HCF\n",
    "HCF = hcf(x,y)\n",
    "LCM = (x*y)/HCF\n",
    "print(\"The HCF of x and y are = \",HCF)\n",
    "print(\"The LCM of x and y are = \",LCM)"
   ]
  },
  {
   "cell_type": "code",
   "execution_count": 20,
   "metadata": {},
   "outputs": [
    {
     "name": "stdout",
     "output_type": "stream",
     "text": [
      "The factorial of 5 is : 120\n"
     ]
    }
   ],
   "source": [
    "#Factorial of a number \n",
    "num = int(input(\"Enter any number :\"))\n",
    "factorial = 1\n",
    "if num < 0:\n",
    "    print(\"Factorial doesn't exist for negative numbers\")\n",
    "elif(num == 0 and 1):\n",
    "    print(\"The factorial is = 1\")\n",
    "else:\n",
    "    for i in range(1,num+1):\n",
    "        factorial = factorial*i\n",
    "print(\"The factorial of\",num,\"is :\",factorial)\n",
    "     \n"
   ]
  },
  {
   "cell_type": "code",
   "execution_count": 23,
   "metadata": {},
   "outputs": [
    {
     "name": "stdout",
     "output_type": "stream",
     "text": [
      "      1 \n",
      "     1 1 \n",
      "    1 2 1 \n",
      "   1 3 3 1 \n",
      "  1 4 6 4 1 \n"
     ]
    }
   ],
   "source": [
    "#Pascal Triangle \n",
    "from math import factorial\n",
    "n =int(input(\"Enter the number of rows: \"))\n",
    "for i in range(n):\n",
    "    for j in range(n-i+1):\n",
    "        print(end = \" \")\n",
    "    for j in range(i+1):\n",
    "        print(factorial(i)//(factorial(j)*factorial(i-j)),end = \" \")\n",
    "    print()"
   ]
  },
  {
   "cell_type": "code",
   "execution_count": 25,
   "metadata": {},
   "outputs": [
    {
     "name": "stdout",
     "output_type": "stream",
     "text": [
      "The reverse number of  12334 is 43321\n"
     ]
    }
   ],
   "source": [
    "#Reverse a number \n",
    "number = int(input(\"Enter any integer :\"))\n",
    "revs_number = 0\n",
    "while(number>0):\n",
    "    remainder = number%10\n",
    "    revs_number = (revs_number*10)+remainder\n",
    "    number = number//10\n",
    "print(\"The reverse number of \",num,\"is\",revs_number)"
   ]
  },
  {
   "cell_type": "code",
   "execution_count": 40,
   "metadata": {},
   "outputs": [
    {
     "name": "stdout",
     "output_type": "stream",
     "text": [
      "The sum of the interger  4 is 10\n"
     ]
    }
   ],
   "source": [
    "#Recursion \n",
    "def recur_sum(n):\n",
    "    if n <=1:\n",
    "        return n \n",
    "    else:\n",
    "         return n + recur_sum(n-1)\n",
    "num = int(input(\"Enter the value of a number \"))\n",
    "if num < 0:\n",
    "    print(\"Enter a positive number \")\n",
    "else:\n",
    "    print(\"The sum of the interger \",num,\"is\",recur_sum(num))"
   ]
  },
  {
   "cell_type": "code",
   "execution_count": 42,
   "metadata": {},
   "outputs": [
    {
     "name": "stdout",
     "output_type": "stream",
     "text": [
      "Welcome-New-Horizon-College-Of-Engineering\n",
      "['Welcome', 'New', 'Horizon', 'College', 'Of', 'Engineering']\n",
      "['College', 'Engineering', 'Horizon', 'New', 'Of', 'Welcome']\n",
      "College-Engineering-Horizon-New-Of-Welcome\n"
     ]
    }
   ],
   "source": [
    "#Hypen\n",
    "str1 = \"Welcome-New-Horizon-College-Of-Engineering\"\n",
    "print(str1)\n",
    "words = str1.split('-')\n",
    "print(words)\n",
    "new_str =sorted(words)\n",
    "print(new_str)\n",
    "hyphen = '-'.join(new_str)\n",
    "print(hyphen) "
   ]
  },
  {
   "cell_type": "code",
   "execution_count": 46,
   "metadata": {},
   "outputs": [
    {
     "name": "stdout",
     "output_type": "stream",
     "text": [
      "The number of uppercase characters:  5\n",
      "The number of lowercase characters:  25\n",
      "The number of  spaces:  5\n",
      "The number of other characters:  7\n",
      "The toggled case sentence is  nEW hORIZON cOLLEGE oF eNGINEERING @#$%^&*\n",
      "The toggled case sentence is  new horizon college of engineering @#$%^&*\n",
      "The toggled case sentence is  NEW HORIZON COLLEGE OF ENGINEERING @#$%^&*\n",
      "The toggled case sentence is  New Horizon College Of Engineering @#$%^&*\n",
      "The toggled case sentence is  New horizon college of engineering @#$%^&*\n"
     ]
    }
   ],
   "source": [
    "#To count number of upper case,lowercase,spaces,other and toggled case a sentence \n",
    "str = \"New Horizon College Of Engineering @#$%^&*\"\n",
    "lower = 0\n",
    "upper = 0\n",
    "others = 0\n",
    "spaces = 0\n",
    "for i in str:\n",
    "    if(i.isupper()):\n",
    "        upper+=1\n",
    "    elif(i.islower()):\n",
    "        lower+=1\n",
    "    elif(i.isspace()):\n",
    "        spaces+=1\n",
    "    else:\n",
    "        others+=1\n",
    "print(\"The number of uppercase characters: \",upper)\n",
    "print(\"The number of lowercase characters: \",lower)\n",
    "print(\"The number of  spaces: \",spaces)\n",
    "print(\"The number of other characters: \",others)\n",
    "print(\"The toggled case sentence is \",str.swapcase())\n",
    "print(\"The toggled case sentence is \",str.lower())\n",
    "print(\"The toggled case sentence is \",str.upper())\n",
    "print(\"The toggled case sentence is \",str.title())\n",
    "print(\"The toggled case sentence is \",str.capitalize())\n",
    "\n"
   ]
  },
  {
   "cell_type": "code",
   "execution_count": 51,
   "metadata": {},
   "outputs": [
    {
     "name": "stdout",
     "output_type": "stream",
     "text": [
      "The no of lines in demo.txt are :  5\n",
      "The no of words in demo.txt are :  5\n",
      "The no of characters in demo.txt are :  93\n"
     ]
    }
   ],
   "source": [
    "#TO count number of lines,words,characters in a file\n",
    "data = open('C:\\\\Users\\\\Admin\\\\OneDrive\\\\Desktop\\\\demo.txt','r')\n",
    "countlines,countwords,countchar = 0,0,0\n",
    "for i in data.readlines():\n",
    "    countlines+=1\n",
    "    lst=i.split()\n",
    "    countwords+=len(lst)\n",
    "    countchar+=len(i.strip('\\n'))\n",
    "print(\"The no of lines in demo.txt are : \",countlines)\n",
    "print(\"The no of words in demo.txt are : \",countwords)\n",
    "print(\"The no of characters in demo.txt are : \",countchar)\n",
    "\n"
   ]
  },
  {
   "cell_type": "code",
   "execution_count": 58,
   "metadata": {},
   "outputs": [
    {
     "name": "stdout",
     "output_type": "stream",
     "text": [
      "0.1\n"
     ]
    }
   ],
   "source": [
    "#Program to compute sin(x)\n",
    "import math\n",
    "def sin(x,n):\n",
    "    sine = 0\n",
    "    for i in range(n):\n",
    "        sign = (-1)**i\n",
    "        pi = 22/7\n",
    "        y = x*(pi/180)\n",
    "        sine += ((y**(2.0*i+1)))/math.factorial(2*i+1)*sign\n",
    "        return sine\n",
    "x = 6\n",
    "n = 40\n",
    "print(round(sin(x,n),2))"
   ]
  },
  {
   "cell_type": "code",
   "execution_count": 59,
   "metadata": {},
   "outputs": [
    {
     "name": "stdout",
     "output_type": "stream",
     "text": [
      "[5, 3, 6, 4]\n",
      "[3, 4, 5, 6]\n",
      "THe largest number is 6\n",
      "THe second largest number is 5\n",
      "THe smallest number is 3\n"
     ]
    }
   ],
   "source": [
    "#Largest and second largest value in a list\n",
    "length =int(input(\"Enter the length of the list :\"))\n",
    "list1 = []\n",
    "for i in range(length):\n",
    "    num = int(input(\"Enter the number \"))\n",
    "    list1.append(num)\n",
    "print(list1)\n",
    "sorted_list = sorted(list1)\n",
    "print(sorted_list)\n",
    "print(\"THe largest number is\",sorted_list[-1])\n",
    "print(\"THe second largest number is\",sorted_list[-2])\n",
    "print(\"THe smallest number is\",sorted_list[0])"
   ]
  },
  {
   "cell_type": "code",
   "execution_count": 62,
   "metadata": {},
   "outputs": [
    {
     "name": "stdout",
     "output_type": "stream",
     "text": [
      "Odd list is  [1, 7, 9]\n",
      "Even list is  [4, 2, 6]\n"
     ]
    }
   ],
   "source": [
    "#Print even and odd number from a list using list comprehension based on user input\n",
    "length =int(input(\"Enter the length of the list :\"))\n",
    "list1 = []\n",
    "for i in range(length):\n",
    "    num = int(input(\"Enter the number \"))\n",
    "    list1.append(num)\n",
    "even = [num for num in list1 if num % 2 == 0]\n",
    "odd = [num for num in list1 if num% 2 != 0]\n",
    "print(\"Odd list is \",odd)\n",
    "print(\"Even list is \",even)"
   ]
  },
  {
   "cell_type": "code",
   "execution_count": 65,
   "metadata": {},
   "outputs": [
    {
     "name": "stdout",
     "output_type": "stream",
     "text": [
      "{'Q': ['Q2'], 's': ['sec'], 'P': ['Python'], 'L': ['Lab'], 'N': ['New'], 'H': ['Horizon'], 'C': ['College'], 'O': ['Of'], 'E': ['Engineering']}\n"
     ]
    }
   ],
   "source": [
    "#Create a Dictionary with key as First Character and values as words starting with that character based on user specified input\n",
    "str_input = \"Q2 sec Python Lab New Horizon College Of Engineering\"\n",
    "words = str_input.split()\n",
    "dictionary = {}\n",
    "for word in words:\n",
    "    if(word[0] not in dictionary.keys()):\n",
    "        dictionary[word[0]]=[]\n",
    "        dictionary[word[0]].append(word)\n",
    "    else:\n",
    "        if(word not in dictionary[word[0]]):\n",
    "            dictionary[word[0],append(word)]\n",
    "print(dictionary)"
   ]
  },
  {
   "cell_type": "code",
   "execution_count": 67,
   "metadata": {},
   "outputs": [
    {
     "name": "stdout",
     "output_type": "stream",
     "text": [
      "2.25\n"
     ]
    }
   ],
   "source": [
    "#Implement Swtich like control structure using dictionaries\n",
    "choices = {\n",
    "'optionA':1.25,\n",
    "'optionB':2.25,\n",
    "'optionC':1.75,\n",
    "'optionD':2.5,\n",
    "}\n",
    "choice = 'optionB'\n",
    "print(choices[choice])"
   ]
  },
  {
   "cell_type": "code",
   "execution_count": null,
   "metadata": {},
   "outputs": [],
   "source": [
    "#To Map two lists into a dictionary\n",
    "test_keys = [\"Rash\",\"Kill\",\"Varsha\"]\n",
    "test_values =[1,4,5]\n",
    "print(\"Original key list is : \" + str(test_keys))\n",
    "print(\"Original value list is :\" + str(test_values))\n",
    "res = {}\n",
    "for key in test_keys:\n",
    "    for value in test_values:\n",
    "        res[key] = value\n",
    "        test_values.remove(value)\n",
    "        break\n",
    "print(\"Resultant dictionary is \" + str(res)) "
   ]
  },
  {
   "cell_type": "code",
   "execution_count": null,
   "metadata": {},
   "outputs": [],
   "source": [
    "\n"
   ]
  },
  {
   "cell_type": "code",
   "execution_count": null,
   "metadata": {},
   "outputs": [],
   "source": []
  }
 ],
 "metadata": {
  "kernelspec": {
   "display_name": "Python 3",
   "language": "python",
   "name": "python3"
  },
  "language_info": {
   "codemirror_mode": {
    "name": "ipython",
    "version": 3
   },
   "file_extension": ".py",
   "mimetype": "text/x-python",
   "name": "python",
   "nbconvert_exporter": "python",
   "pygments_lexer": "ipython3",
   "version": "3.11.5"
  }
 },
 "nbformat": 4,
 "nbformat_minor": 2
}
